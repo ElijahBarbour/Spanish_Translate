{
 "cells": [
  {
   "cell_type": "code",
   "execution_count": 3,
   "metadata": {},
   "outputs": [],
   "source": [
    "import speech_recognition as sr"
   ]
  },
  {
   "cell_type": "code",
   "execution_count": 6,
   "metadata": {},
   "outputs": [
    {
     "ename": "OSError",
     "evalue": "No Default Input Device Available",
     "output_type": "error",
     "traceback": [
      "\u001b[1;31m---------------------------------------------------------------------------\u001b[0m",
      "\u001b[1;31mOSError\u001b[0m                                   Traceback (most recent call last)",
      "\u001b[1;32mc:\\Users\\enbar\\Documents\\AI Stuff\\Spanish_Translate\\Spanish_Translate\\Speech_Recognition.ipynb Cell 2'\u001b[0m in \u001b[0;36m<module>\u001b[1;34m\u001b[0m\n\u001b[0;32m      <a href='vscode-notebook-cell:/c%3A/Users/enbar/Documents/AI%20Stuff/Spanish_Translate/Spanish_Translate/Speech_Recognition.ipynb#ch0000001?line=0'>1</a>\u001b[0m recognizer1 \u001b[39m=\u001b[39m sr\u001b[39m.\u001b[39mRecognizer()\n\u001b[1;32m----> <a href='vscode-notebook-cell:/c%3A/Users/enbar/Documents/AI%20Stuff/Spanish_Translate/Spanish_Translate/Speech_Recognition.ipynb#ch0000001?line=1'>2</a>\u001b[0m microphone1 \u001b[39m=\u001b[39m sr\u001b[39m.\u001b[39;49mMicrophone()\n",
      "File \u001b[1;32mc:\\Users\\enbar\\Documents\\AI Stuff\\Spanish_Translate\\TRANS\\lib\\site-packages\\speech_recognition\\__init__.py:86\u001b[0m, in \u001b[0;36mMicrophone.__init__\u001b[1;34m(self, device_index, sample_rate, chunk_size)\u001b[0m\n\u001b[0;32m     <a href='file:///c%3A/Users/enbar/Documents/AI%20Stuff/Spanish_Translate/TRANS/lib/site-packages/speech_recognition/__init__.py?line=83'>84</a>\u001b[0m     \u001b[39massert\u001b[39;00m \u001b[39m0\u001b[39m \u001b[39m<\u001b[39m\u001b[39m=\u001b[39m device_index \u001b[39m<\u001b[39m count, \u001b[39m\"\u001b[39m\u001b[39mDevice index out of range (\u001b[39m\u001b[39m{}\u001b[39;00m\u001b[39m devices available; device index should be between 0 and \u001b[39m\u001b[39m{}\u001b[39;00m\u001b[39m inclusive)\u001b[39m\u001b[39m\"\u001b[39m\u001b[39m.\u001b[39mformat(count, count \u001b[39m-\u001b[39m \u001b[39m1\u001b[39m)\n\u001b[0;32m     <a href='file:///c%3A/Users/enbar/Documents/AI%20Stuff/Spanish_Translate/TRANS/lib/site-packages/speech_recognition/__init__.py?line=84'>85</a>\u001b[0m \u001b[39mif\u001b[39;00m sample_rate \u001b[39mis\u001b[39;00m \u001b[39mNone\u001b[39;00m:  \u001b[39m# automatically set the sample rate to the hardware's default sample rate if not specified\u001b[39;00m\n\u001b[1;32m---> <a href='file:///c%3A/Users/enbar/Documents/AI%20Stuff/Spanish_Translate/TRANS/lib/site-packages/speech_recognition/__init__.py?line=85'>86</a>\u001b[0m     device_info \u001b[39m=\u001b[39m audio\u001b[39m.\u001b[39mget_device_info_by_index(device_index) \u001b[39mif\u001b[39;00m device_index \u001b[39mis\u001b[39;00m \u001b[39mnot\u001b[39;00m \u001b[39mNone\u001b[39;00m \u001b[39melse\u001b[39;00m audio\u001b[39m.\u001b[39;49mget_default_input_device_info()\n\u001b[0;32m     <a href='file:///c%3A/Users/enbar/Documents/AI%20Stuff/Spanish_Translate/TRANS/lib/site-packages/speech_recognition/__init__.py?line=86'>87</a>\u001b[0m     \u001b[39massert\u001b[39;00m \u001b[39misinstance\u001b[39m(device_info\u001b[39m.\u001b[39mget(\u001b[39m\"\u001b[39m\u001b[39mdefaultSampleRate\u001b[39m\u001b[39m\"\u001b[39m), (\u001b[39mfloat\u001b[39m, \u001b[39mint\u001b[39m)) \u001b[39mand\u001b[39;00m device_info[\u001b[39m\"\u001b[39m\u001b[39mdefaultSampleRate\u001b[39m\u001b[39m\"\u001b[39m] \u001b[39m>\u001b[39m \u001b[39m0\u001b[39m, \u001b[39m\"\u001b[39m\u001b[39mInvalid device info returned from PyAudio: \u001b[39m\u001b[39m{}\u001b[39;00m\u001b[39m\"\u001b[39m\u001b[39m.\u001b[39mformat(device_info)\n\u001b[0;32m     <a href='file:///c%3A/Users/enbar/Documents/AI%20Stuff/Spanish_Translate/TRANS/lib/site-packages/speech_recognition/__init__.py?line=87'>88</a>\u001b[0m     sample_rate \u001b[39m=\u001b[39m \u001b[39mint\u001b[39m(device_info[\u001b[39m\"\u001b[39m\u001b[39mdefaultSampleRate\u001b[39m\u001b[39m\"\u001b[39m])\n",
      "File \u001b[1;32mc:\\Users\\enbar\\Documents\\AI Stuff\\Spanish_Translate\\TRANS\\lib\\site-packages\\pyaudio.py:949\u001b[0m, in \u001b[0;36mPyAudio.get_default_input_device_info\u001b[1;34m(self)\u001b[0m\n\u001b[0;32m    <a href='file:///c%3A/Users/enbar/Documents/AI%20Stuff/Spanish_Translate/TRANS/lib/site-packages/pyaudio.py?line=938'>939</a>\u001b[0m \u001b[39mdef\u001b[39;00m \u001b[39mget_default_input_device_info\u001b[39m(\u001b[39mself\u001b[39m):\n\u001b[0;32m    <a href='file:///c%3A/Users/enbar/Documents/AI%20Stuff/Spanish_Translate/TRANS/lib/site-packages/pyaudio.py?line=939'>940</a>\u001b[0m     \u001b[39m\"\"\"\u001b[39;00m\n\u001b[0;32m    <a href='file:///c%3A/Users/enbar/Documents/AI%20Stuff/Spanish_Translate/TRANS/lib/site-packages/pyaudio.py?line=940'>941</a>\u001b[0m \u001b[39m    Return the default input Device parameters as a\u001b[39;00m\n\u001b[0;32m    <a href='file:///c%3A/Users/enbar/Documents/AI%20Stuff/Spanish_Translate/TRANS/lib/site-packages/pyaudio.py?line=941'>942</a>\u001b[0m \u001b[39m    dictionary. The keys of the dictionary mirror the data fields\u001b[39;00m\n\u001b[1;32m   (...)\u001b[0m\n\u001b[0;32m    <a href='file:///c%3A/Users/enbar/Documents/AI%20Stuff/Spanish_Translate/TRANS/lib/site-packages/pyaudio.py?line=945'>946</a>\u001b[0m \u001b[39m    :rtype: dict\u001b[39;00m\n\u001b[0;32m    <a href='file:///c%3A/Users/enbar/Documents/AI%20Stuff/Spanish_Translate/TRANS/lib/site-packages/pyaudio.py?line=946'>947</a>\u001b[0m \u001b[39m    \"\"\"\u001b[39;00m\n\u001b[1;32m--> <a href='file:///c%3A/Users/enbar/Documents/AI%20Stuff/Spanish_Translate/TRANS/lib/site-packages/pyaudio.py?line=948'>949</a>\u001b[0m     device_index \u001b[39m=\u001b[39m pa\u001b[39m.\u001b[39;49mget_default_input_device()\n\u001b[0;32m    <a href='file:///c%3A/Users/enbar/Documents/AI%20Stuff/Spanish_Translate/TRANS/lib/site-packages/pyaudio.py?line=949'>950</a>\u001b[0m     \u001b[39mreturn\u001b[39;00m \u001b[39mself\u001b[39m\u001b[39m.\u001b[39mget_device_info_by_index(device_index)\n",
      "\u001b[1;31mOSError\u001b[0m: No Default Input Device Available"
     ]
    }
   ],
   "source": [
    "recognizer1 = sr.Recognizer()\n",
    "microphone1 = sr.Microphone()"
   ]
  },
  {
   "cell_type": "code",
   "execution_count": null,
   "metadata": {},
   "outputs": [],
   "source": [
    "def recognize_speech_from_mic(recognizer, microphone):\n",
    "    if not isinstance(recognizer, sr.Recognizer):\n",
    "        raise TypeError(\"`recognizer` must be `Recognizer` instance\")\n",
    "    if not isinstance(microphone, sr.Microphone):\n",
    "        raise TypeError(\"`microphone` must be `Microphone` instance\")\n",
    "\n",
    "    with microphone as source:\n",
    "        recognizer.adjust_for_ambient_noise(source)\n",
    "        print(\"Speak Now\")\n",
    "        audio = recognizer.listen(source)\n",
    "\n",
    "    response = {\n",
    "        \"transaction\": None,\n",
    "        \"error\": None\n",
    "    }\n",
    "\n",
    "    try:\n",
    "        response[\"transaction\"] = recognizer.recognize_google(audio)\n",
    "    except sr.RequestError:\n",
    "        response[\"error\"] = \"API Unavailable\"\n",
    "    except sr.UnknownValueError:\n",
    "        response[\"error\"] = \"Unable to recognize speech\"\n",
    "\n",
    "    return response\n"
   ]
  },
  {
   "cell_type": "code",
   "execution_count": 5,
   "metadata": {},
   "outputs": [
    {
     "ename": "NameError",
     "evalue": "name 'recognize_speech_from_mic' is not defined",
     "output_type": "error",
     "traceback": [
      "\u001b[1;31m---------------------------------------------------------------------------\u001b[0m",
      "\u001b[1;31mNameError\u001b[0m                                 Traceback (most recent call last)",
      "\u001b[1;32mc:\\Users\\enbar\\Documents\\AI Stuff\\Spanish_Translate\\Spanish_Translate\\Speech_Recognition.ipynb Cell 4'\u001b[0m in \u001b[0;36m<module>\u001b[1;34m\u001b[0m\n\u001b[1;32m----> <a href='vscode-notebook-cell:/c%3A/Users/enbar/Documents/AI%20Stuff/Spanish_Translate/Spanish_Translate/Speech_Recognition.ipynb#ch0000003?line=0'>1</a>\u001b[0m MyWords \u001b[39m=\u001b[39m recognize_speech_from_mic(recognizer\u001b[39m=\u001b[39mrecognizer1, microphone\u001b[39m=\u001b[39mmicrophone1)\n\u001b[0;32m      <a href='vscode-notebook-cell:/c%3A/Users/enbar/Documents/AI%20Stuff/Spanish_Translate/Spanish_Translate/Speech_Recognition.ipynb#ch0000003?line=2'>3</a>\u001b[0m \u001b[39m#Success Case\u001b[39;00m\n\u001b[0;32m      <a href='vscode-notebook-cell:/c%3A/Users/enbar/Documents/AI%20Stuff/Spanish_Translate/Spanish_Translate/Speech_Recognition.ipynb#ch0000003?line=3'>4</a>\u001b[0m \u001b[39mif\u001b[39;00m MyWords[\u001b[39m\"\u001b[39m\u001b[39mtransaction\u001b[39m\u001b[39m\"\u001b[39m] \u001b[39mis\u001b[39;00m \u001b[39mnot\u001b[39;00m \u001b[39mNone\u001b[39;00m:\n",
      "\u001b[1;31mNameError\u001b[0m: name 'recognize_speech_from_mic' is not defined"
     ]
    }
   ],
   "source": [
    "MyWords = recognize_speech_from_mic(recognizer=recognizer1, microphone=microphone1)\n",
    "\n",
    "#Success Case\n",
    "if MyWords[\"transaction\"] is not None:\n",
    "    MyWords[\"transaction\"] = MyWords[\"transaction\"].lower()\n",
    "    print(\"Did you say: \"+MyWords[\"transaction\"])\n",
    "    #Here you want to say \"Yes or No\". if yes, then push through algorithm.\n",
    "    #if no, then you want to repeat MyWords = recognize_speech_from_mic()\n",
    "\n",
    "#Failure Case\n",
    "if (MyWords[\"error\"] is not None):\n",
    "    print(\"ERROR: \"+MyWords[\"error\"])\n",
    "    #exit the recognize speech from mic. this would force them to press the button to resay their words\n",
    "\n"
   ]
  },
  {
   "cell_type": "code",
   "execution_count": null,
   "metadata": {},
   "outputs": [],
   "source": []
  }
 ],
 "metadata": {
  "interpreter": {
   "hash": "6e4318de6c3d9468936a9c0f3d22de2558ebd58548c8f0e8679ba461b13513ee"
  },
  "kernelspec": {
   "display_name": "Python 3.9.6 ('TRANS')",
   "language": "python",
   "name": "python3"
  },
  "language_info": {
   "codemirror_mode": {
    "name": "ipython",
    "version": 3
   },
   "file_extension": ".py",
   "mimetype": "text/x-python",
   "name": "python",
   "nbconvert_exporter": "python",
   "pygments_lexer": "ipython3",
   "version": "3.9.6"
  },
  "orig_nbformat": 4
 },
 "nbformat": 4,
 "nbformat_minor": 2
}
